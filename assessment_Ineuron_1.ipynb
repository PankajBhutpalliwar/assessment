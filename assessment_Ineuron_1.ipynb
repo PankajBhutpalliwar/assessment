{
 "cells": [
  {
   "cell_type": "markdown",
   "id": "f977b604",
   "metadata": {},
   "source": [
    "1. Create a function in python to read the text file and replace specific content\n",
    "of the file.\n",
    "File name                            example.txt\n",
    "Origin file content                  This is a placement assignment\n",
    "Replace string                       Placement should be replaced by screening.\n",
    "Replaced file content                This is a screening assignment"
   ]
  },
  {
   "cell_type": "code",
   "execution_count": 1,
   "id": "01bd4104",
   "metadata": {},
   "outputs": [],
   "source": [
    "\n",
    "def file_editor(filename, word, new_word):\n",
    "    try:\n",
    "        file = open(filename, 'r+')\n",
    "        lines = file.readlines()\n",
    "        for i in lines:\n",
    "            if word in i:\n",
    "                new_line = i.replace(word, new_word)\n",
    "                lines = new_line\n",
    "                file.truncate(0)\n",
    "                file.seek(0)\n",
    "                file.write(lines)\n",
    "                file.close()\n",
    "                print('Success')\n",
    "            else:\n",
    "                print('Word not found in file.')\n",
    "\n",
    "    except Exception as e:\n",
    "            print('error occured in file',e)  "
   ]
  },
  {
   "cell_type": "markdown",
   "id": "3e155326",
   "metadata": {},
   "source": [
    "2. Demonstrate use of abstract class, multiple inheritance and decorator in mpython using examples."
   ]
  },
  {
   "cell_type": "markdown",
   "id": "d87fce93",
   "metadata": {},
   "source": [
    "# Abstract Class"
   ]
  },
  {
   "cell_type": "code",
   "execution_count": 2,
   "id": "21e77b9d",
   "metadata": {},
   "outputs": [],
   "source": [
    "class Calculator:\n",
    "    def addition(self):\n",
    "        pass\n",
    "    \n",
    "    def substraction(self):\n",
    "        pass\n",
    "    \n",
    "    def multiplication(self):\n",
    "        pass\n",
    "    \n",
    "    def division(self):\n",
    "        pass"
   ]
  },
  {
   "cell_type": "code",
   "execution_count": 3,
   "id": "c80ac5a2",
   "metadata": {},
   "outputs": [],
   "source": [
    "from abc import ABC,abstractmethod\n",
    "\n",
    "class mobile(ABC):\n",
    "    def price (self):\n",
    "        pass\n",
    "    \n",
    "class iphone(mobile):\n",
    "    def price(self):\n",
    "        print('The price is 1 lakh.')\n",
    "        \n",
    "class samsung(mobile):\n",
    "    def price(self):\n",
    "        print('The price is 50k.')\n",
    "\n",
    "class xiaomi(mobile):\n",
    "    def price(self):\n",
    "        print('The price is 20k.')\n",
    "        "
   ]
  },
  {
   "cell_type": "code",
   "execution_count": 4,
   "id": "a0e09d25",
   "metadata": {},
   "outputs": [
    {
     "name": "stdout",
     "output_type": "stream",
     "text": [
      "The price is 1 lakh.\n",
      "The price is 50k.\n",
      "The price is 20k.\n"
     ]
    }
   ],
   "source": [
    "a = iphone()\n",
    "a.price()\n",
    "\n",
    "b = samsung()\n",
    "b.price()\n",
    "\n",
    "c = xiaomi()\n",
    "c.price()"
   ]
  },
  {
   "cell_type": "markdown",
   "id": "c153b020",
   "metadata": {},
   "source": [
    "# Multiple Inheritance"
   ]
  },
  {
   "cell_type": "markdown",
   "id": "61e25800",
   "metadata": {},
   "source": [
    "When a class is derived from the more than one base class it is called multiple inheritance. \n",
    "Class derived is then inherits all the features of the base class."
   ]
  },
  {
   "cell_type": "code",
   "execution_count": 15,
   "id": "0e519e79",
   "metadata": {},
   "outputs": [],
   "source": [
    "\n",
    "class level1:\n",
    "    def add (self, a, b):\n",
    "        return a+b\n",
    "    \n",
    "    def substraction(self, a,b):\n",
    "        return a-b\n",
    "    \n",
    "class level2:\n",
    "    def multiplication(self, a, b):\n",
    "        return a*b\n",
    "    \n",
    "    def division (self, a, b):\n",
    "        return a/b\n",
    "    \n",
    "class level3(level1, level2):\n",
    "    def test(self):\n",
    "        print('This is my multiple inheritance class')\n",
    "        \n",
    "        "
   ]
  },
  {
   "cell_type": "code",
   "execution_count": 16,
   "id": "6432bb07",
   "metadata": {},
   "outputs": [
    {
     "data": {
      "text/plain": [
       "11"
      ]
     },
     "execution_count": 16,
     "metadata": {},
     "output_type": "execute_result"
    }
   ],
   "source": [
    "level = level3()\n",
    "\n",
    "level.add(5,6)\n"
   ]
  },
  {
   "cell_type": "code",
   "execution_count": 17,
   "id": "86cb00fd",
   "metadata": {},
   "outputs": [
    {
     "data": {
      "text/plain": [
       "30"
      ]
     },
     "execution_count": 17,
     "metadata": {},
     "output_type": "execute_result"
    }
   ],
   "source": [
    "level.multiplication(5,6)\n"
   ]
  },
  {
   "cell_type": "code",
   "execution_count": 18,
   "id": "3cea144a",
   "metadata": {},
   "outputs": [
    {
     "name": "stdout",
     "output_type": "stream",
     "text": [
      "This is my multiple inheritance class\n"
     ]
    }
   ],
   "source": [
    "level.test()"
   ]
  },
  {
   "cell_type": "markdown",
   "id": "dd466168",
   "metadata": {},
   "source": [
    "# Decorator"
   ]
  },
  {
   "cell_type": "markdown",
   "id": "925b8775",
   "metadata": {},
   "source": [
    "Decorator is just a function which takes another function as an argument add some kind of functionality\n",
    "and returns the function. \n",
    "All this without altering the source code of the original function that we have passed."
   ]
  },
  {
   "cell_type": "code",
   "execution_count": 14,
   "id": "0100381b",
   "metadata": {},
   "outputs": [],
   "source": [
    "\n",
    "#defining a decorator\n",
    "def full_name(func):\n",
    "    \n",
    "    # first_name is a Wrapper function in\n",
    "    # which the argument is called\n",
    "    \n",
    "    # first_name function can access the outer local\n",
    "    # functions like in this case \"func\"\n",
    "    def first_name():\n",
    "        print('This is my First name: Pankaj ')\n",
    "        \n",
    "        # calling the actual function now\n",
    "        # inside the wrapper function.\n",
    "        \n",
    "        func()\n",
    "        print('This is my Surname: Bhutpalliwar')\n",
    "        \n",
    "    return first_name\n"
   ]
  },
  {
   "cell_type": "code",
   "execution_count": 10,
   "id": "7e76ac36",
   "metadata": {},
   "outputs": [],
   "source": [
    "# passing 'middle_name' inside the\n",
    "# decorator to control its behaviour  \n",
    "\n",
    "@full_name\n",
    "def middle_name():\n",
    "    print('This is my Middle Name: Narayan ')\n"
   ]
  },
  {
   "cell_type": "code",
   "execution_count": 11,
   "id": "d4d2e86f",
   "metadata": {},
   "outputs": [
    {
     "name": "stdout",
     "output_type": "stream",
     "text": [
      "This is my First name: Pankaj \n",
      "This is my Middle Name: Narayan \n",
      "This is my Surname: Bhutpalliwar\n"
     ]
    }
   ],
   "source": [
    "middle_name()"
   ]
  },
  {
   "cell_type": "code",
   "execution_count": null,
   "id": "53cd93ea",
   "metadata": {},
   "outputs": [],
   "source": []
  }
 ],
 "metadata": {
  "kernelspec": {
   "display_name": "Python 3 (ipykernel)",
   "language": "python",
   "name": "python3"
  },
  "language_info": {
   "codemirror_mode": {
    "name": "ipython",
    "version": 3
   },
   "file_extension": ".py",
   "mimetype": "text/x-python",
   "name": "python",
   "nbconvert_exporter": "python",
   "pygments_lexer": "ipython3",
   "version": "3.9.7"
  }
 },
 "nbformat": 4,
 "nbformat_minor": 5
}
